{
 "cells": [
  {
   "cell_type": "markdown",
   "id": "910bb6a3-cf16-4675-a9c6-d26381d81236",
   "metadata": {},
   "source": [
    "Predicting the Future of Pokémon: By Michael Holman"
   ]
  },
  {
   "cell_type": "markdown",
   "id": "68b09a8d-66a0-4273-ab7c-bf87e517f860",
   "metadata": {},
   "source": [
    "Nintendo is one of the world’s leading game development companies and is well known for their flagship series of Mario, Zelda, and Pokémon. Recently, however, the company has been under fire from fans around the world for their recent handling of the Pokémon series. The major decision back in 2019 to not include every Pokémon in further Pokémon games (Sword and Shield having about 400 of the over 900 Pokémon) was surprisingly taken as both [good](https://en.pdvg.it/2020/01/04/pokemon-spada-e-scudo-i-giocatori-competitivi-sono-favorevoli-alla-dexit/) and [bad](https://www.ign.com/articles/2019/11/16/pokemon-sword-and-shield-dexit-controversy-explained) depending on who you talked with. Of interest today are the competitive players of Pokémon and how the future looks for these players.\n",
    "\n",
    "One problem that arises in card games and long running video game series is a dreaded term called power creep. As a game continues and adds more content the fans are going to want a reason to use newer content rather than their old favorites and the easiest way to make sure they choose new content is to make it stronger than the old content. As more and more content gets released, however, the discrepancy in power between the most recent content and the oldest content gets larger and larger to the point that using older content is non-viable competitively. How does power creep relate to Pokémon then? By adding more Pokémon every generation it stands to reason that some Pokémon are more powerful than others and thus power creep might be an issue or become an issue in the future. One of the main points we will be researching today is whether power creep is currently present in Pokémon and what future generations of Pokémon might look like competitively.\n"
   ]
  },
  {
   "cell_type": "markdown",
   "id": "7a401692-380f-4e29-8a8c-32fa32f0258c",
   "metadata": {},
   "source": [
    "Part 1: Data Collection"
   ]
  },
  {
   "cell_type": "markdown",
   "id": "e7eabb2d-ff22-4903-81c9-33704b2bc533",
   "metadata": {},
   "source": [
    "The first step in determining evidence of power creep is to compare the base stats of all Pokémon as of the current generation then group and compare them based on the generation they originated from. There are plenty of websites with Pokémon information on them such as [Pokemon Database](https://pokemondb.net/pokedex/national) and [Serebii](https://serebii.net/pokedex-swsh/) but today we are using [Bulbapedia](https://bulbapedia.bulbagarden.net/wiki/List_of_Pok%C3%A9mon_by_National_Pok%C3%A9dex_number) as they have a stats database already available on one page.\n",
    "\n",
    "We’ll import libraries that will be necessary for the project (this includes every step, not just data collection)."
   ]
  },
  {
   "cell_type": "code",
   "execution_count": 2,
   "id": "2e7fb762-9860-415d-b861-5652a20664da",
   "metadata": {},
   "outputs": [],
   "source": [
    "import pandas as pd\n",
    "import requests\n",
    "from bs4 import BeautifulSoup\n",
    "import matplotlib.pyplot as plt\n",
    "import numpy as np\n",
    "from sklearn.linear_model import LinearRegression\n",
    "import statsmodels.api as sma\n",
    "import warnings\n",
    "warnings.filterwarnings('ignore')"
   ]
  },
  {
   "cell_type": "markdown",
   "id": "b99f9806-ebe2-4f9a-a992-6ff8a6d1cf63",
   "metadata": {},
   "source": [
    "The first step is to send a request for the HTML of Bulbapedia, then reading that HTML using BeautifulSoup and Pandas’ built-in readers. This will translate all the data on the page into a DataFrame for us to access. Then  we do some preprocessing of our data by dropping unnecessary columns (we don’t need the images of the pokemon for this), renaming the columns for easier use later, and most importantly dropping unnecessary rows.\n",
    "\n",
    "Some Pokémon are listed twice under the same ID as they have abilities that change their form to temporarily increase their stats under certain conditions. As each Pokémon has different circumstances for these stat changes, we would need to inspect each duplicate entry individually to figure out how best to count their effective stats. Today we are only interested in their base stats, not accounting for items, abilities, forms, or EV values that might influence an individual Pokémon; the primary form (listed first) will be kept while duplicates are dropped."
   ]
  },
  {
   "cell_type": "code",
   "execution_count": 3,
   "id": "26fd4e4d-2ad1-4dac-9514-af212bb0c0bd",
   "metadata": {},
   "outputs": [
    {
     "data": {
      "text/html": [
       "<div>\n",
       "<style scoped>\n",
       "    .dataframe tbody tr th:only-of-type {\n",
       "        vertical-align: middle;\n",
       "    }\n",
       "\n",
       "    .dataframe tbody tr th {\n",
       "        vertical-align: top;\n",
       "    }\n",
       "\n",
       "    .dataframe thead th {\n",
       "        text-align: right;\n",
       "    }\n",
       "</style>\n",
       "<table border=\"1\" class=\"dataframe\">\n",
       "  <thead>\n",
       "    <tr style=\"text-align: right;\">\n",
       "      <th></th>\n",
       "      <th>ID</th>\n",
       "      <th>Name</th>\n",
       "      <th>HP</th>\n",
       "      <th>Attack</th>\n",
       "      <th>Defense</th>\n",
       "      <th>Sp. Attack</th>\n",
       "      <th>Sp. Defense</th>\n",
       "      <th>Speed</th>\n",
       "      <th>Total</th>\n",
       "      <th>Average</th>\n",
       "    </tr>\n",
       "  </thead>\n",
       "  <tbody>\n",
       "    <tr>\n",
       "      <th>0</th>\n",
       "      <td>1</td>\n",
       "      <td>Bulbasaur</td>\n",
       "      <td>45</td>\n",
       "      <td>49</td>\n",
       "      <td>49</td>\n",
       "      <td>65</td>\n",
       "      <td>65</td>\n",
       "      <td>45</td>\n",
       "      <td>318</td>\n",
       "      <td>53.00</td>\n",
       "    </tr>\n",
       "    <tr>\n",
       "      <th>1</th>\n",
       "      <td>2</td>\n",
       "      <td>Ivysaur</td>\n",
       "      <td>60</td>\n",
       "      <td>62</td>\n",
       "      <td>63</td>\n",
       "      <td>80</td>\n",
       "      <td>80</td>\n",
       "      <td>60</td>\n",
       "      <td>405</td>\n",
       "      <td>67.50</td>\n",
       "    </tr>\n",
       "    <tr>\n",
       "      <th>2</th>\n",
       "      <td>3</td>\n",
       "      <td>Venusaur</td>\n",
       "      <td>80</td>\n",
       "      <td>82</td>\n",
       "      <td>83</td>\n",
       "      <td>100</td>\n",
       "      <td>100</td>\n",
       "      <td>80</td>\n",
       "      <td>525</td>\n",
       "      <td>87.50</td>\n",
       "    </tr>\n",
       "    <tr>\n",
       "      <th>3</th>\n",
       "      <td>4</td>\n",
       "      <td>Charmander</td>\n",
       "      <td>39</td>\n",
       "      <td>52</td>\n",
       "      <td>43</td>\n",
       "      <td>60</td>\n",
       "      <td>50</td>\n",
       "      <td>65</td>\n",
       "      <td>309</td>\n",
       "      <td>51.50</td>\n",
       "    </tr>\n",
       "    <tr>\n",
       "      <th>4</th>\n",
       "      <td>5</td>\n",
       "      <td>Charmeleon</td>\n",
       "      <td>58</td>\n",
       "      <td>64</td>\n",
       "      <td>58</td>\n",
       "      <td>80</td>\n",
       "      <td>65</td>\n",
       "      <td>80</td>\n",
       "      <td>405</td>\n",
       "      <td>67.50</td>\n",
       "    </tr>\n",
       "    <tr>\n",
       "      <th>...</th>\n",
       "      <td>...</td>\n",
       "      <td>...</td>\n",
       "      <td>...</td>\n",
       "      <td>...</td>\n",
       "      <td>...</td>\n",
       "      <td>...</td>\n",
       "      <td>...</td>\n",
       "      <td>...</td>\n",
       "      <td>...</td>\n",
       "      <td>...</td>\n",
       "    </tr>\n",
       "    <tr>\n",
       "      <th>900</th>\n",
       "      <td>901</td>\n",
       "      <td>Ursaluna</td>\n",
       "      <td>130</td>\n",
       "      <td>140</td>\n",
       "      <td>105</td>\n",
       "      <td>45</td>\n",
       "      <td>80</td>\n",
       "      <td>50</td>\n",
       "      <td>550</td>\n",
       "      <td>91.67</td>\n",
       "    </tr>\n",
       "    <tr>\n",
       "      <th>901</th>\n",
       "      <td>902</td>\n",
       "      <td>Basculegion (Male)</td>\n",
       "      <td>120</td>\n",
       "      <td>112</td>\n",
       "      <td>65</td>\n",
       "      <td>80</td>\n",
       "      <td>75</td>\n",
       "      <td>78</td>\n",
       "      <td>530</td>\n",
       "      <td>88.33</td>\n",
       "    </tr>\n",
       "    <tr>\n",
       "      <th>902</th>\n",
       "      <td>903</td>\n",
       "      <td>Sneasler</td>\n",
       "      <td>80</td>\n",
       "      <td>130</td>\n",
       "      <td>60</td>\n",
       "      <td>40</td>\n",
       "      <td>80</td>\n",
       "      <td>120</td>\n",
       "      <td>510</td>\n",
       "      <td>85.00</td>\n",
       "    </tr>\n",
       "    <tr>\n",
       "      <th>903</th>\n",
       "      <td>904</td>\n",
       "      <td>Overqwil</td>\n",
       "      <td>85</td>\n",
       "      <td>115</td>\n",
       "      <td>95</td>\n",
       "      <td>65</td>\n",
       "      <td>65</td>\n",
       "      <td>85</td>\n",
       "      <td>510</td>\n",
       "      <td>85.00</td>\n",
       "    </tr>\n",
       "    <tr>\n",
       "      <th>904</th>\n",
       "      <td>905</td>\n",
       "      <td>Enamorus (Incarnate Forme)</td>\n",
       "      <td>74</td>\n",
       "      <td>115</td>\n",
       "      <td>70</td>\n",
       "      <td>135</td>\n",
       "      <td>80</td>\n",
       "      <td>106</td>\n",
       "      <td>580</td>\n",
       "      <td>96.67</td>\n",
       "    </tr>\n",
       "  </tbody>\n",
       "</table>\n",
       "<p>905 rows × 10 columns</p>\n",
       "</div>"
      ],
      "text/plain": [
       "      ID                        Name   HP  Attack  Defense  Sp. Attack  \\\n",
       "0      1                   Bulbasaur   45      49       49          65   \n",
       "1      2                     Ivysaur   60      62       63          80   \n",
       "2      3                    Venusaur   80      82       83         100   \n",
       "3      4                  Charmander   39      52       43          60   \n",
       "4      5                  Charmeleon   58      64       58          80   \n",
       "..   ...                         ...  ...     ...      ...         ...   \n",
       "900  901                    Ursaluna  130     140      105          45   \n",
       "901  902          Basculegion (Male)  120     112       65          80   \n",
       "902  903                    Sneasler   80     130       60          40   \n",
       "903  904                    Overqwil   85     115       95          65   \n",
       "904  905  Enamorus (Incarnate Forme)   74     115       70         135   \n",
       "\n",
       "     Sp. Defense  Speed  Total  Average  \n",
       "0             65     45    318    53.00  \n",
       "1             80     60    405    67.50  \n",
       "2            100     80    525    87.50  \n",
       "3             50     65    309    51.50  \n",
       "4             65     80    405    67.50  \n",
       "..           ...    ...    ...      ...  \n",
       "900           80     50    550    91.67  \n",
       "901           75     78    530    88.33  \n",
       "902           80    120    510    85.00  \n",
       "903           65     85    510    85.00  \n",
       "904           80    106    580    96.67  \n",
       "\n",
       "[905 rows x 10 columns]"
      ]
     },
     "execution_count": 3,
     "metadata": {},
     "output_type": "execute_result"
    }
   ],
   "source": [
    "content = requests.get(\"https://bulbapedia.bulbagarden.net/wiki/List_of_Pok%C3%A9mon_by_base_stats_(Generation_VIII-present)\").content\n",
    "pkmnstats = pd.read_html(str(BeautifulSoup(content).find(\"table\", class_=\"sortable\")))[0]\n",
    "pkmnstats.drop_duplicates(subset=['#'], inplace=True)\n",
    "pkmnstats.rename({\"#\":\"ID\",\"Pokémon\":\"Name\"}, axis=1, inplace=True)\n",
    "pkmnstats.reset_index(inplace=True)\n",
    "pkmnstats.drop(\"Unnamed: 1\", axis=1, inplace=True)\n",
    "pkmnstats.drop(\"index\", axis=1, inplace=True)\n",
    "pkmnstats"
   ]
  },
  {
   "cell_type": "markdown",
   "id": "a8274376-6cb7-45c5-9d80-3434273a62a4",
   "metadata": {},
   "source": [
    "Each stat is fairly self-explanatory for those familiar with [RPGs](https://en.wikipedia.org/wiki/Role-playing_game) and video games. We have the ID of the Pokémon which represents the typical order they are listed in-game (not accounting for the latest generation cutting some Pokémon, of course), lower IDs are generally Pokémon from earlier generations while higher IDs are from later generations. HP stands for hit points, how many hits a creature can take before reaching 0 and being incapacitated. Attack and Sp. Attack dictate how many hit points they will take away from their opponent when they use an offensive move. Defense and Sp. Defense mitigate number of hit points removed when targeted by an offensive move with Defense mitigating Attack and Sp. Defense mitigating Sp. Attack. Speed helps decide which Pokémon will take their turn first. Luckily for us the database also includes the total stats and average stats of each Pokémon so these will not need to be calculated later.\n",
    "\n",
    "Originally, we had planned on using Serebii's database as each Pokémon was listed in sequential file order for easy access and each file/page had all the necessary data for our graphs and more. Unfortunately, my computer could not read several hundred HTML files in a reasonable time. We then moved to Bulbapedia but the problem with this website is that not all the information we want is all on one page. As such we will need to add in new information by hand later. For now, though, our initial data has been loaded and is ready for display."
   ]
  },
  {
   "cell_type": "markdown",
   "id": "8fab5917-7f9c-4bbb-bb7d-29924dcf977b",
   "metadata": {},
   "source": [
    "Part 2: Data Representation"
   ]
  },
  {
   "cell_type": "markdown",
   "id": "5e552b8a-7234-4982-8650-054e6dd9db39",
   "metadata": {},
   "source": [
    "First order of business now that we have our data is to represent it. We will be doing this two ways: comparing ID to total stats in a scatter plot and finding the spread over each stat using violin plots.\n",
    "\n",
    "Our scatter plot comparing ID to total stats should allow us to see if there are any noticeable trends as ID, and subsequently generation, increases. We will likely have to come back to this graph later to better categorize our data which will make trends more obvious, but for now this is preliminary representation.\n",
    "\n",
    "Our violin plots won’t tell us anything directly about our original question, whether power creep exists in Pokémon, but this might help capture other interesting trends and lead to other insights and questions for the future. An additional benefit to this graph is to better highlight existence of outliers and range of Pokémon stats.\n",
    "\n",
    "The code below generates our two plots using matplotlib and pandas’ built-in plotting capabilities."
   ]
  },
  {
   "cell_type": "code",
   "execution_count": 4,
   "id": "5cfc898d-0c1a-4fa9-a901-6ddf154ce3dd",
   "metadata": {},
   "outputs": [
    {
     "data": {
      "text/plain": [
       "(-10.0, 60.0)"
      ]
     },
     "execution_count": 4,
     "metadata": {},
     "output_type": "execute_result"
    },
    {
     "data": {
      "image/png": "[encoded data removed]",
      "text/plain": [
       "<Figure size 432x288 with 1 Axes>"
      ]
     },
     "metadata": {
      "needs_background": "light"
     },
     "output_type": "display_data"
    },
    {
     "data": {
      "image/png": "[encoded data removed]",
      "text/plain": [
       "<Figure size 432x288 with 1 Axes>"
      ]
     },
     "metadata": {
      "needs_background": "light"
     },
     "output_type": "display_data"
    }
   ],
   "source": [
    "pkmnstats.plot(x=\"ID\",y=\"Total\",kind=\"scatter\",title=\"Pkmn. Base Stats By ID\",xlabel=\"ID\",ylabel=\"Total Stats\")\n",
    "temp=[0,10,20,30,40,50]\n",
    "statLbl = [\"HP\", \"Attack\", \"Defense\", \"Sp. Attack\", \"Sp. Defense\", \"Speed\"]\n",
    "statValue = []\n",
    "fig, ax = plt.subplots()\n",
    "for s in statLbl:\n",
    "    statValue.append(pkmnstats[s])\n",
    "ax.violinplot(statValue,temp,widths=4,showmeans=True)\n",
    "ax.set_xlabel(\"Stat Type\")\n",
    "ax.set_ylabel(\"Stat Value\")\n",
    "ax.set_title(\"Pkmn. Stat Spread\")\n",
    "statLbl[3]=\"Sp.A\"\n",
    "statLbl[4]=\"Sp.D\"\n",
    "ax.set_xticks(np.arange(0, 10*len(statLbl), 10), labels=statLbl)\n",
    "ax.set_xlim(-10, 10*len(statLbl))"
   ]
  },
  {
   "cell_type": "markdown",
   "id": "476dfd62-bea1-458c-8087-e5b345803de4",
   "metadata": {},
   "source": [
    "Unsurprisingly, our initial plots don’t indicate any extremely evident patterns. If power creep was so evident one line plot could show proof of it there would have been complaints about it. Does this mean power creep doesn’t exist? We can’t be sure of this either, more data and charts are necessary for any definitive conclusions.\n",
    "\n",
    "What did we learn from these plots then? First, we learned about the existence of clear outliers which we will need to identify the cause of in the next section. These outliers are evident both as points in the scatter plot far above the larger cluster and as the cause of the large ranges of the violin plots. The second is a bit harder to notice but with some background knowledge of Pokémon we find this: within each generation there appears to be a positive correlation between ID and total stats. Looking at the graph you can see 8 different positive trend lines and eight groups of outliers, the same number as the number of Pokémon generations. This might also help us identify groups of Pokémon and even determine the outliers easier.\n"
   ]
  },
  {
   "cell_type": "markdown",
   "id": "979e8572-c1e1-4d83-a996-79730de654df",
   "metadata": {},
   "source": [
    "Part 3: Initial Data Analysis"
   ]
  },
  {
   "cell_type": "markdown",
   "id": "d939b935-fb48-4bee-a0e9-53fbad319c59",
   "metadata": {},
   "source": [
    "It’s time to identify some outliers… but what is an outlier? Outliers are hard to define as there are many characteristics of them before we can even consider including them or not. Consulting the list of banned and restricted Pokémon in competitive matches we find that most [mythical](https://bulbapedia.bulbagarden.net/wiki/Mythical_Pok%C3%A9mon) Pokémon are banned while most [legendaries](https://bulbapedia.bulbagarden.net/wiki/Legendary_Pok%C3%A9mon) are restricted. These Pokémon all have fairly high base stats, but there are non-legendary Pokémon with stats this high that aren’t restricted ([pseudo-legendaries](https://bulbapedia.bulbagarden.net/wiki/Pseudo-legendary_Pok%C3%A9mon) for example) so should we include them in the same group? For now we’ll manually label the banned and restricted Pokémon one way and leave the rest alone.\n",
    "\n",
    "There’s another group of Pokémon that might be messing up our stats as well. One of the major features of Pokémon is evolution: as Pokémon satisfy certain requirements they evolve into entirely different Pokémon with new moves and better stats. As these evolutions all have better stats than their evolved forms nobody uses the unevolved forms competitively, thus the evolved forms should be labeled differently.\n",
    "\n",
    "Performing a request to Serebii and Bulbapedia and adding in two more columns to our data should help identify groups, then we plot the scatter plot again with these groups in mind. The limited column will tell us if competitive has deemed a Pokémon too strong, the evolved column will tell us if this Pokémon is fully evolved (and cannot evolve again).\n"
   ]
  },
  {
   "cell_type": "code",
   "execution_count": 5,
   "id": "bcefb6ee-9b29-49ab-9967-65e68bb32105",
   "metadata": {},
   "outputs": [
    {
     "data": {
      "text/html": [
       "<div>\n",
       "<style scoped>\n",
       "    .dataframe tbody tr th:only-of-type {\n",
       "        vertical-align: middle;\n",
       "    }\n",
       "\n",
       "    .dataframe tbody tr th {\n",
       "        vertical-align: top;\n",
       "    }\n",
       "\n",
       "    .dataframe thead th {\n",
       "        text-align: right;\n",
       "    }\n",
       "</style>\n",
       "<table border=\"1\" class=\"dataframe\">\n",
       "  <thead>\n",
       "    <tr style=\"text-align: right;\">\n",
       "      <th></th>\n",
       "      <th>ID</th>\n",
       "      <th>Name</th>\n",
       "      <th>HP</th>\n",
       "      <th>Attack</th>\n",
       "      <th>Defense</th>\n",
       "      <th>Sp. Attack</th>\n",
       "      <th>Sp. Defense</th>\n",
       "      <th>Speed</th>\n",
       "      <th>Total</th>\n",
       "      <th>Average</th>\n",
       "      <th>Limited</th>\n",
       "      <th>Evolved</th>\n",
       "    </tr>\n",
       "  </thead>\n",
       "  <tbody>\n",
       "    <tr>\n",
       "      <th>149</th>\n",
       "      <td>150</td>\n",
       "      <td>Mewtwo</td>\n",
       "      <td>106</td>\n",
       "      <td>110</td>\n",
       "      <td>90</td>\n",
       "      <td>154</td>\n",
       "      <td>90</td>\n",
       "      <td>130</td>\n",
       "      <td>680</td>\n",
       "      <td>113.33</td>\n",
       "      <td>True</td>\n",
       "      <td>True</td>\n",
       "    </tr>\n",
       "    <tr>\n",
       "      <th>150</th>\n",
       "      <td>151</td>\n",
       "      <td>Mew</td>\n",
       "      <td>100</td>\n",
       "      <td>100</td>\n",
       "      <td>100</td>\n",
       "      <td>100</td>\n",
       "      <td>100</td>\n",
       "      <td>100</td>\n",
       "      <td>600</td>\n",
       "      <td>100.00</td>\n",
       "      <td>True</td>\n",
       "      <td>True</td>\n",
       "    </tr>\n",
       "    <tr>\n",
       "      <th>248</th>\n",
       "      <td>249</td>\n",
       "      <td>Lugia</td>\n",
       "      <td>106</td>\n",
       "      <td>90</td>\n",
       "      <td>130</td>\n",
       "      <td>90</td>\n",
       "      <td>154</td>\n",
       "      <td>110</td>\n",
       "      <td>680</td>\n",
       "      <td>113.33</td>\n",
       "      <td>True</td>\n",
       "      <td>True</td>\n",
       "    </tr>\n",
       "    <tr>\n",
       "      <th>249</th>\n",
       "      <td>250</td>\n",
       "      <td>Ho-Oh</td>\n",
       "      <td>106</td>\n",
       "      <td>130</td>\n",
       "      <td>90</td>\n",
       "      <td>110</td>\n",
       "      <td>154</td>\n",
       "      <td>90</td>\n",
       "      <td>680</td>\n",
       "      <td>113.33</td>\n",
       "      <td>True</td>\n",
       "      <td>True</td>\n",
       "    </tr>\n",
       "    <tr>\n",
       "      <th>250</th>\n",
       "      <td>251</td>\n",
       "      <td>Celebi</td>\n",
       "      <td>100</td>\n",
       "      <td>100</td>\n",
       "      <td>100</td>\n",
       "      <td>100</td>\n",
       "      <td>100</td>\n",
       "      <td>100</td>\n",
       "      <td>600</td>\n",
       "      <td>100.00</td>\n",
       "      <td>True</td>\n",
       "      <td>True</td>\n",
       "    </tr>\n",
       "  </tbody>\n",
       "</table>\n",
       "</div>"
      ],
      "text/plain": [
       "      ID    Name   HP  Attack  Defense  Sp. Attack  Sp. Defense  Speed  Total  \\\n",
       "149  150  Mewtwo  106     110       90         154           90    130    680   \n",
       "150  151     Mew  100     100      100         100          100    100    600   \n",
       "248  249   Lugia  106      90      130          90          154    110    680   \n",
       "249  250   Ho-Oh  106     130       90         110          154     90    680   \n",
       "250  251  Celebi  100     100      100         100          100    100    600   \n",
       "\n",
       "     Average  Limited  Evolved  \n",
       "149   113.33     True     True  \n",
       "150   100.00     True     True  \n",
       "248   113.33     True     True  \n",
       "249   113.33     True     True  \n",
       "250   100.00     True     True  "
      ]
     },
     "execution_count": 5,
     "metadata": {},
     "output_type": "execute_result"
    }
   ],
   "source": [
    "pkmnstats2 = pkmnstats.copy()\n",
    "pkmnstats2[\"Limited\"] = False\n",
    "pkmnstats2[\"Evolved\"] = False\n",
    "content = requests.get(\"https://www.serebii.net/swordshield/rankedbattle/series10.shtml\").content\n",
    "temp = pd.read_html(str(BeautifulSoup(content).find_all(\"table\", class_=\"tab\")[1]))[0]\n",
    "for index, row in temp.iterrows():\n",
    "    if index>0:\n",
    "        pkmnstats2.loc[pkmnstats2[\"ID\"]==int(row[0][1:4]), \"Limited\"] = True\n",
    "temp = pd.read_html(str(BeautifulSoup(content).find_all(\"table\", class_=\"tab\")[2]))[0]\n",
    "for index, row in temp.iterrows():\n",
    "    if index>0:\n",
    "        pkmnstats2.loc[pkmnstats2[\"ID\"]==int(row[0][1:4]), \"Limited\"] = True\n",
    "content = requests.get(\"https://bulbapedia.bulbagarden.net/wiki/List_of_fully_evolved_Pok%C3%A9mon_by_base_stats\").content\n",
    "temp = pd.read_html(str(BeautifulSoup(content).find(\"table\", class_=\"sortable\")))[0]\n",
    "for index, row in temp.iterrows():\n",
    "    pkmnstats2.loc[pkmnstats2[\"ID\"]==int(row[\"#\"]), \"Evolved\"] = True\n",
    "pkmnstats2.loc[pkmnstats2[\"Limited\"]==True].head()"
   ]
  },
  {
   "cell_type": "markdown",
   "id": "c1d33450-2b4f-4299-a56e-67992e3bac59",
   "metadata": {},
   "source": [
    "The chart displayed above lists a few of the limited pokemon: note their high base stats and the fact they are all either legendary or mythical."
   ]
  },
  {
   "cell_type": "markdown",
   "id": "e71e0e35-ca6c-4de4-b63c-3db399a00ebd",
   "metadata": {},
   "source": [
    "Part 4: Hypothesis Testing"
   ]
  },
  {
   "cell_type": "markdown",
   "id": "c85b06d7-4d7e-40d8-a570-86ad50f3da85",
   "metadata": {},
   "source": [
    "With some categorized data we can finally test our hypothesis: power creep is evident in Pokémon with stats increasing as newer Pokémon are released. This, of course, means our null hypothesis would be that no correlation exists between Pokémon ID and overall stats. We’ll perform a linear regression algorithm for each of our three major categories of Pokémon: all, fully evolved and no limited Pokémon, and limited only. Should our slope have an absolute value less than 0.05 then we will be forced to reject the null hypothesis.\n",
    "\n",
    "First, all Pokémon:"
   ]
  },
  {
   "cell_type": "code",
   "execution_count": 6,
   "id": "93dff9f8-ac54-4f3c-b82e-cf485a7af1c1",
   "metadata": {},
   "outputs": [
    {
     "name": "stdout",
     "output_type": "stream",
     "text": [
      "The linear regression equation is as follows (where y represents total stats and x represents ID):\n",
      "y = 0.07343818148084952x + (390.5247689825453)\n",
      "                            OLS Regression Results                            \n",
      "==============================================================================\n",
      "Dep. Variable:                  Total   R-squared:                       0.029\n",
      "Model:                            OLS   Adj. R-squared:                  0.028\n",
      "Method:                 Least Squares   F-statistic:                     27.43\n",
      "Date:                Mon, 16 May 2022   Prob (F-statistic):           2.03e-07\n",
      "Time:                        14:05:57   Log-Likelihood:                -5538.8\n",
      "No. Observations:                 905   AIC:                         1.108e+04\n",
      "Df Residuals:                     903   BIC:                         1.109e+04\n",
      "Df Model:                           1                                         \n",
      "Covariance Type:            nonrobust                                         \n",
      "==============================================================================\n",
      "                 coef    std err          t      P>|t|      [0.025      0.975]\n",
      "------------------------------------------------------------------------------\n",
      "const        390.5248      7.333     53.256      0.000     376.133     404.916\n",
      "ID             0.0734      0.014      5.237      0.000       0.046       0.101\n",
      "==============================================================================\n",
      "Omnibus:                       40.906   Durbin-Watson:                   1.900\n",
      "Prob(Omnibus):                  0.000   Jarque-Bera (JB):               18.120\n",
      "Skew:                          -0.086   Prob(JB):                     0.000116\n",
      "Kurtosis:                       2.328   Cond. No.                     1.05e+03\n",
      "==============================================================================\n",
      "\n",
      "Notes:\n",
      "[1] Standard Errors assume that the covariance matrix of the errors is correctly specified.\n",
      "[2] The condition number is large, 1.05e+03. This might indicate that there are\n",
      "strong multicollinearity or other numerical problems.\n"
     ]
    }
   ],
   "source": [
    "reg = LinearRegression().fit(pkmnstats2[[\"ID\"]].values,pkmnstats2[\"Total\"])\n",
    "print(\"The linear regression equation is as follows (where y represents total stats and x represents ID):\")\n",
    "print(\"y = \"+str(reg.coef_[0])+\"x + (\"+str(reg.intercept_)+\")\")\n",
    "regX = sma.OLS(pkmnstats2[\"Total\"], sma.add_constant(pkmnstats2[\"ID\"])).fit()\n",
    "print(regX.summary())"
   ]
  },
  {
   "cell_type": "markdown",
   "id": "6536cbc0-4a99-4044-b698-1c2fb91a5882",
   "metadata": {},
   "source": [
    "Then fully evolved non-limited Pokémon:"
   ]
  },
  {
   "cell_type": "code",
   "execution_count": 7,
   "id": "0e403649-95bd-4dc6-9835-53685eb9cb20",
   "metadata": {},
   "outputs": [
    {
     "name": "stdout",
     "output_type": "stream",
     "text": [
      "The linear regression equation is as follows (where y represents total stats and x represents ID):\n",
      "y = 0.04841292450489914x + (471.8269440195884)\n",
      "                            OLS Regression Results                            \n",
      "==============================================================================\n",
      "Dep. Variable:                  Total   R-squared:                       0.047\n",
      "Model:                            OLS   Adj. R-squared:                  0.045\n",
      "Method:                 Least Squares   F-statistic:                     22.91\n",
      "Date:                Mon, 16 May 2022   Prob (F-statistic):           2.29e-06\n",
      "Time:                        14:05:59   Log-Likelihood:                -2522.8\n",
      "No. Observations:                 463   AIC:                             5050.\n",
      "Df Residuals:                     461   BIC:                             5058.\n",
      "Df Model:                           1                                         \n",
      "Covariance Type:            nonrobust                                         \n",
      "==============================================================================\n",
      "                 coef    std err          t      P>|t|      [0.025      0.975]\n",
      "------------------------------------------------------------------------------\n",
      "const        471.8269      5.455     86.490      0.000     461.107     482.547\n",
      "ID             0.0484      0.010      4.786      0.000       0.029       0.068\n",
      "==============================================================================\n",
      "Omnibus:                       72.584   Durbin-Watson:                   1.222\n",
      "Prob(Omnibus):                  0.000   Jarque-Bera (JB):              364.638\n",
      "Skew:                          -0.555   Prob(JB):                     6.61e-80\n",
      "Kurtosis:                       7.204   Cond. No.                     1.12e+03\n",
      "==============================================================================\n",
      "\n",
      "Notes:\n",
      "[1] Standard Errors assume that the covariance matrix of the errors is correctly specified.\n",
      "[2] The condition number is large, 1.12e+03. This might indicate that there are\n",
      "strong multicollinearity or other numerical problems.\n"
     ]
    }
   ],
   "source": [
    "reg2 = LinearRegression().fit(pkmnstats2.loc[(pkmnstats2[\"Evolved\"]==True)&(pkmnstats2[\"Limited\"]==False)][[\"ID\"]].values,\\\n",
    "                             pkmnstats2.loc[(pkmnstats2[\"Evolved\"]==True)&(pkmnstats2[\"Limited\"]==False)][\"Total\"])\n",
    "print(\"The linear regression equation is as follows (where y represents total stats and x represents ID):\")\n",
    "print(\"y = \"+str(reg2.coef_[0])+\"x + (\"+str(reg2.intercept_)+\")\")\n",
    "regX2 = sma.OLS(pkmnstats2.loc[(pkmnstats2[\"Evolved\"]==True)&(pkmnstats2[\"Limited\"]==False)][\"Total\"],\\\n",
    "               sma.add_constant(pkmnstats2.loc[(pkmnstats2[\"Evolved\"]==True)&(pkmnstats2[\"Limited\"]==False)][\"ID\"])).fit()\n",
    "print(regX2.summary())"
   ]
  },
  {
   "cell_type": "markdown",
   "id": "4d9cd158-3762-470d-83a7-5c116064dc9e",
   "metadata": {},
   "source": [
    "Now just the limited Pokémon:"
   ]
  },
  {
   "cell_type": "code",
   "execution_count": 8,
   "id": "81222dc6-cfc4-49df-92c2-345903091f92",
   "metadata": {},
   "outputs": [
    {
     "name": "stdout",
     "output_type": "stream",
     "text": [
      "The linear regression equation is as follows (where y represents total stats and x represents ID):\n",
      "y = -0.1381888046486698x + (698.3919355431143)\n",
      "                            OLS Regression Results                            \n",
      "==============================================================================\n",
      "Dep. Variable:                  Total   R-squared:                       0.088\n",
      "Model:                            OLS   Adj. R-squared:                  0.063\n",
      "Method:                 Least Squares   F-statistic:                     3.470\n",
      "Date:                Mon, 16 May 2022   Prob (F-statistic):             0.0707\n",
      "Time:                        14:06:02   Log-Likelihood:                -228.59\n",
      "No. Observations:                  38   AIC:                             461.2\n",
      "Df Residuals:                      36   BIC:                             464.5\n",
      "Df Model:                           1                                         \n",
      "Covariance Type:            nonrobust                                         \n",
      "==============================================================================\n",
      "                 coef    std err          t      P>|t|      [0.025      0.975]\n",
      "------------------------------------------------------------------------------\n",
      "const        698.3919     49.312     14.163      0.000     598.382     798.402\n",
      "ID            -0.1382      0.074     -1.863      0.071      -0.289       0.012\n",
      "==============================================================================\n",
      "Omnibus:                       34.047   Durbin-Watson:                   1.511\n",
      "Prob(Omnibus):                  0.000   Jarque-Bera (JB):               82.721\n",
      "Skew:                          -2.258   Prob(JB):                     1.09e-18\n",
      "Kurtosis:                       8.644   Cond. No.                     1.98e+03\n",
      "==============================================================================\n",
      "\n",
      "Notes:\n",
      "[1] Standard Errors assume that the covariance matrix of the errors is correctly specified.\n",
      "[2] The condition number is large, 1.98e+03. This might indicate that there are\n",
      "strong multicollinearity or other numerical problems.\n"
     ]
    }
   ],
   "source": [
    "reg3 = LinearRegression().fit(pkmnstats2.loc[(pkmnstats2[\"Limited\"]==True)][[\"ID\"]].values,\\\n",
    "                             pkmnstats2.loc[(pkmnstats2[\"Limited\"]==True)][\"Total\"])\n",
    "print(\"The linear regression equation is as follows (where y represents total stats and x represents ID):\")\n",
    "print(\"y = \"+str(reg3.coef_[0])+\"x + (\"+str(reg3.intercept_)+\")\")\n",
    "regX3 = sma.OLS(pkmnstats2.loc[(pkmnstats2[\"Limited\"]==True)][\"Total\"],\\\n",
    "               sma.add_constant(pkmnstats2.loc[(pkmnstats2[\"Limited\"]==True)][\"ID\"])).fit()\n",
    "print(regX3.summary())"
   ]
  },
  {
   "cell_type": "markdown",
   "id": "5c8dfb66-0758-4c8a-846d-16142caa9d1f",
   "metadata": {},
   "source": [
    "And finally we’ll display it all on a colorful scatter/line plot:"
   ]
  },
  {
   "cell_type": "code",
   "execution_count": 9,
   "id": "3114d892-9f06-462b-96c4-c9440673bb9e",
   "metadata": {},
   "outputs": [
    {
     "name": "stdout",
     "output_type": "stream",
     "text": [
      "The black line represents the linear regression line for all Pokémon\n"
     ]
    },
    {
     "data": {
      "image/png": "[encoded data removed]",
      "text/plain": [
       "<Figure size 432x288 with 1 Axes>"
      ]
     },
     "metadata": {
      "needs_background": "light"
     },
     "output_type": "display_data"
    }
   ],
   "source": [
    "colors = [\"red\", \"yellow\", \"blue\", \"green\"]\n",
    "labels = [\"Unevolved\", \"Unev. Limited\", \"Evolved\", \"Limited\"]\n",
    "fig, ax = plt.subplots()\n",
    "for value1, group1 in pkmnstats2.groupby(\"Evolved\"):\n",
    "    for value2, group2 in group1.groupby(\"Limited\"):\n",
    "        group2.plot(x=\"ID\", y=\"Total\", kind=\"scatter\", ax=ax, label=labels[2*value1+value2], c=colors[2*value1+value2])\n",
    "plt.plot(pkmnstats2[\"ID\"], reg.predict(pkmnstats2[[\"ID\"]]), color=\"black\")\n",
    "plt.plot(pkmnstats2[\"ID\"], reg2.predict(pkmnstats2[[\"ID\"]]), color=\"blue\")\n",
    "plt.plot(pkmnstats2[\"ID\"], reg3.predict(pkmnstats2[[\"ID\"]]), color=\"green\")\n",
    "ax.set_title(\"Grouped Base Stats By ID With Predictions\")\n",
    "print(\"The black line represents the linear regression line for all Pokémon\")"
   ]
  },
  {
   "cell_type": "markdown",
   "id": "da905801-ac8a-4b9f-9b29-80cdc53a7bd2",
   "metadata": {},
   "source": [
    "Part 5: Communication and Conclusions"
   ]
  },
  {
   "cell_type": "markdown",
   "id": "ad3bc357-0679-4e88-99b9-21d94f27e076",
   "metadata": {},
   "source": [
    "So what does all of our data mean? Judging by our linear regression lines it seems there is indeed a positive correlation between ID and base stats after all. This positive correlation holds for Pokémon overall and for the main group of competitive Pokémon, evolved non-limited Pokémon. Surprisingly though, there is a negative correlation between ID and limited Pokémon meaning more recent limited Pokémon are generally weaker than older limited Pokémon.\n",
    "\n",
    "Are we sure we can trust our data? Judging by the p-values we can safely reject our null hypothesis as there is a less than .1% chance of this data occurring without a correlation existing, a low enough chance for us to reject that possibility. We satisfy this p value for both Pokémon overall as well as the main group of Pokémon (evolved non-limited Pokémon) but not for limited Pokémon’s linear regression. Perhaps there is not enough data or perhaps there are other factors at work, either way we cannot safely conclude anything about our limited Pokémon despite their linear regression data. Thus we can conclude there is indeed a positive correlation between stats and ID (or recentness) in Pokémon.\n",
    "\n",
    "Does this mean power creep exists in Pokémon? Not definitively, no. The first major problem with this theory is that power creep is only a problem if the people who it affects (competitive players) think it is a problem, otherwise it is just an interesting statistical quirk. The second major problem is that the correlation itself is very minor, over 8 whole generations and 25 years the average base stat totals have only increased by about 40 for competitive Pokémon which is negligible for most competitive situations.\n",
    "\n",
    "What does this data mean then? For starters we can use it as a baseline to compare our Pokémon from now on; Pokémon that are below these stats should rarely be considered for competitive use. We can also use this data for more fun projects, such as predicting future generations’ base stats and creating more accurate Pokémon [ROM hacks](https://en.wikipedia.org/wiki/ROM_hacking#:~:text=ROM%20hacking%20is%20the%20process,%2C%20and%2For%20other%20elements.). We can also safely say that we now know what to watch for in future generations and can plan preemptively for changes in the competitive scene. Otherwise though, more data and research would be needed for any major breakthroughs.\n",
    "\n",
    "For further study it might be worth checking out Pokémon ROMs and comparing them to find the most “accurate” versions. It might also be worth comparing the stats of Pokémon over each generation as stats sometimes change between generations to accommodate new mechanics and to fix power creep. Finally, additional insights might be revealed when comparing Pokémon in more detail such as considering their evolution states (fully or not fully evolved), potential for mega evolution (which temporarily increasing base stats), and even their abilities and EVs which can affect their effective stats compared to their base stats. To take this project a step further, we could predict Pokémon stats based on type and predict an entire regions’ worth of Pokémon using average number of Pokémon per type combination and stats per type. There are always more trends to be found in data and thus there are always more predictions to be done.\n"
   ]
  },
  {
   "cell_type": "code",
   "execution_count": null,
   "id": "4e57240b-9725-4cd5-99d1-380fc69fb0ba",
   "metadata": {},
   "outputs": [],
   "source": []
  }
 ],
 "metadata": {
  "kernelspec": {
   "display_name": "Python 3 (ipykernel)",
   "language": "python",
   "name": "python3"
  },
  "language_info": {
   "codemirror_mode": {
    "name": "ipython",
    "version": 3
   },
   "file_extension": ".py",
   "mimetype": "text/x-python",
   "name": "python",
   "nbconvert_exporter": "python",
   "pygments_lexer": "ipython3",
   "version": "3.9.7"
  }
 },
 "nbformat": 4,
 "nbformat_minor": 5
}
